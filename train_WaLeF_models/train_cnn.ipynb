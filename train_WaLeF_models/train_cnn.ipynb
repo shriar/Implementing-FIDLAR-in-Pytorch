{
 "cells": [
  {
   "cell_type": "markdown",
   "metadata": {},
   "source": [
    "Problems\n",
    "- the premute the tensor can be a problematic. because in the official implementation there was no need for the permutation.\n",
    "- the implementation of conv1d in pytorch and tensorflow is different. so my pytorch version can be wrong as i didnot understand few things.\n",
    "- masking was not done."
   ]
  },
  {
   "cell_type": "code",
   "execution_count": 1,
   "metadata": {},
   "outputs": [
    {
     "name": "stdout",
     "output_type": "stream",
     "text": [
      "f:\\OUT\\DL\\Implementing FIDLAR\\train_WaLeF_models\n",
      "f:\\OUT\\DL\\Implementing FIDLAR\n"
     ]
    }
   ],
   "source": [
    "import sys\n",
    "import os\n",
    "\n",
    "# Step 1: Get current directory \n",
    "current_directory = os.getcwd()        # '/home/bear-b/users/jshi008/IvyProjects/FIDLA/train_WaLeF_models'\n",
    "print(current_directory)\n",
    "\n",
    "# Step 2: Get path of parent directory (one level up)\n",
    "parent_directory = os.path.dirname(current_directory)    # '/home/bear-b/users/jshi008/IvyProjects/FIDLA'\n",
    "print(parent_directory)\n",
    "# Step 3: Append parent directory to sys.path\n",
    "sys.path.append(parent_directory)"
   ]
  },
  {
   "cell_type": "code",
   "execution_count": 2,
   "metadata": {},
   "outputs": [
    {
     "data": {
      "text/plain": [
       "device(type='cuda', index=0)"
      ]
     },
     "execution_count": 2,
     "metadata": {},
     "output_type": "execute_result"
    }
   ],
   "source": [
    "import torch\n",
    "from torch import nn\n",
    "import torch.utils.data as data_utils\n",
    "import time\n",
    "import matplotlib.pyplot as plt\n",
    "from torch.optim.lr_scheduler import ExponentialLR\n",
    "\n",
    "from IPython import display\n",
    "\n",
    "\n",
    "from baselines.cnn import CNN\n",
    "from preprocess.BaselinePrerocess import baseline_process\n",
    "\n",
    "device = torch.device(\"cuda:0\" if torch.cuda.is_available() else \"cpu\")\n",
    "device"
   ]
  },
  {
   "cell_type": "markdown",
   "metadata": {},
   "source": [
    "# Preprocess"
   ]
  },
  {
   "cell_type": "code",
   "execution_count": 3,
   "metadata": {},
   "outputs": [],
   "source": [
    "# ====== preprocessing parameters ======\n",
    "n_hours = 72\n",
    "K = 24 \n",
    "masked_value = 1e-10\n",
    "split_1 = 0.8\n",
    "split_2 = 0.9"
   ]
  },
  {
   "cell_type": "code",
   "execution_count": 4,
   "metadata": {},
   "outputs": [],
   "source": [
    "train_X_mask, val_X_mask, test_X_mask, \\\n",
    "train_ws_y, val_ws_y, test_ws_y, \\\n",
    "scaler, ws_scaler = baseline_process(n_hours, K, masked_value, split_1, split_2)"
   ]
  },
  {
   "cell_type": "code",
   "execution_count": 5,
   "metadata": {},
   "outputs": [
    {
     "name": "stdout",
     "output_type": "stream",
     "text": [
      "(77069, 96, 16) (9634, 96, 16) (19268, 96, 16) (77069, 96) (9634, 96) (19268, 96)\n"
     ]
    }
   ],
   "source": [
    "print(train_X_mask.shape, val_X_mask.shape, test_X_mask.shape, train_ws_y.shape, val_ws_y.shape, test_ws_y.shape)"
   ]
  },
  {
   "cell_type": "code",
   "execution_count": 6,
   "metadata": {},
   "outputs": [],
   "source": [
    "train_X_mask, val_X_mask, test_X_mask, train_ws_y, val_ws_y, test_ws_y = torch.from_numpy(train_X_mask), torch.from_numpy(val_X_mask), torch.from_numpy(test_X_mask), torch.from_numpy(train_ws_y), torch.from_numpy(val_ws_y), torch.from_numpy(test_ws_y)"
   ]
  },
  {
   "cell_type": "code",
   "execution_count": 7,
   "metadata": {},
   "outputs": [
    {
     "name": "stdout",
     "output_type": "stream",
     "text": [
      "torch.Size([77069, 16, 96]) torch.Size([9634, 16, 96]) torch.Size([19268, 16, 96]) torch.Size([77069, 96]) torch.Size([9634, 96]) torch.Size([19268, 96])\n"
     ]
    }
   ],
   "source": [
    "train_X_mask = train_X_mask.permute(0, 2, 1)\n",
    "val_X_mask = val_X_mask.permute(0, 2, 1)\n",
    "test_X_mask = test_X_mask.permute(0, 2, 1)\n",
    "print(train_X_mask.shape, val_X_mask.shape, test_X_mask.shape, train_ws_y.shape, val_ws_y.shape, test_ws_y.shape)"
   ]
  },
  {
   "cell_type": "code",
   "execution_count": 8,
   "metadata": {},
   "outputs": [],
   "source": [
    "batch_size = 512\n",
    "train_loader = data_utils.DataLoader(data_utils.TensorDataset(train_X_mask, train_ws_y), batch_size=batch_size, shuffle=True)\n",
    "val_loader = data_utils.DataLoader(data_utils.TensorDataset(val_X_mask, val_ws_y), batch_size=batch_size, shuffle=True)\n",
    "test_loader = data_utils.DataLoader(data_utils.TensorDataset(test_X_mask, test_ws_y), batch_size=batch_size, shuffle=True)"
   ]
  },
  {
   "cell_type": "markdown",
   "metadata": {},
   "source": [
    "# Model"
   ]
  },
  {
   "cell_type": "code",
   "execution_count": 3,
   "metadata": {},
   "outputs": [],
   "source": [
    "# ===== model parameters ======\n",
    "cnn_unit1 = 64\n",
    "cnn_unit2 = 32\n",
    "cnn_unit3 = 16\n",
    "dropout = 0.1\n",
    "kernel_size = 2\n",
    "pool_size=2\n",
    "learning_rate = 1e-4\n",
    "decay_steps = 10000\n",
    "decay_rate = 0.95\n",
    "PATIENCE = 500\n",
    "EPOCHS = 3000\n",
    "BATCH = 512\n",
    "input_shape = (96, 16)#train_X_mask.shape[1:]"
   ]
  },
  {
   "cell_type": "code",
   "execution_count": 4,
   "metadata": {},
   "outputs": [
    {
     "name": "stderr",
     "output_type": "stream",
     "text": [
      "c:\\Users\\User\\miniconda3\\lib\\site-packages\\torch\\nn\\modules\\lazy.py:181: UserWarning: Lazy modules are a new feature under heavy development so changes to the API or functionality can happen at any moment.\n",
      "  warnings.warn('Lazy modules are a new feature under heavy development '\n"
     ]
    }
   ],
   "source": [
    "x = torch.rand([1, 16, 96])\n",
    "cnn = CNN(\n",
    "            cnn_unit1=cnn_unit1,\n",
    "            cnn_unit2=cnn_unit2,\n",
    "            cnn_unit3=cnn_unit3,\n",
    "            dropout=dropout,\n",
    "            kernel_size=kernel_size,\n",
    "            pool_size=pool_size,\n",
    ")"
   ]
  },
  {
   "cell_type": "code",
   "execution_count": 7,
   "metadata": {},
   "outputs": [
    {
     "name": "stdout",
     "output_type": "stream",
     "text": [
      "25808\n"
     ]
    }
   ],
   "source": [
    "import torch\n",
    "from torch.nn.parameter import UninitializedParameter\n",
    "\n",
    "def count_parameters(model):\n",
    "    dummy_input = torch.randn(1, 16, 96)\n",
    "    model.forward(dummy_input)\n",
    "    \n",
    "    return sum(p.numel() for p in model.parameters() if p.requires_grad and not isinstance(p, UninitializedParameter))\n",
    "\n",
    "total_params = count_parameters(cnn)\n",
    "print(total_params)"
   ]
  },
  {
   "cell_type": "markdown",
   "metadata": {},
   "source": [
    "# Training"
   ]
  },
  {
   "cell_type": "code",
   "execution_count": 17,
   "metadata": {},
   "outputs": [],
   "source": [
    "model = cnn.to(device)\n",
    "optimizer = torch.optim.Adam(model.parameters(), lr=learning_rate, )\n",
    "scheduler = ExponentialLR(optimizer, gamma=decay_rate,\n",
    "                        #   last_epoch=-1\n",
    "                          )\n",
    "from torchmetrics.regression import MeanAbsoluteError\n",
    "criterion = torch.nn.MSELoss()\n",
    "MAE = MeanAbsoluteError().to(device)\n",
    "\n",
    "train_losses = []\n",
    "val_losses = []\n",
    "num_epochs = 30"
   ]
  },
  {
   "cell_type": "code",
   "execution_count": 19,
   "metadata": {},
   "outputs": [
    {
     "name": "stdout",
     "output_type": "stream",
     "text": [
      "Epoch: 30 - Train Loss: 3.635e-04 - Val Loss: 1.502e-03 - Train MAE: 0.01286 - Val MAE: 0.03131\n"
     ]
    },
    {
     "data": {
      "image/png": "[encoded data removed]",
      "text/plain": [
       "<Figure size 640x480 with 1 Axes>"
      ]
     },
     "metadata": {},
     "output_type": "display_data"
    }
   ],
   "source": [
    "for epoch in range(num_epochs):\n",
    "    model.train()\n",
    "    total_train_loss = 0\n",
    "    total_train_mae = 0\n",
    "    \n",
    "    for batch in train_loader:\n",
    "        inp, out = batch[0].to(device), batch[1].to(device)\n",
    "        optimizer.zero_grad()\n",
    "        m_out = model(inp)\n",
    "        loss = criterion(m_out, out)\n",
    "        mae_train = MAE(m_out, out)\n",
    "        loss.backward()\n",
    "        optimizer.step()\n",
    "        # scheduler.step()\n",
    "        total_train_loss += loss.item()\n",
    "        total_train_mae += mae_train.item()\n",
    "    \n",
    "    avg_train_loss = total_train_loss / len(train_loader)\n",
    "    avg_train_mae = total_train_mae / len(train_loader)\n",
    "    train_losses.append(avg_train_loss)\n",
    "    \n",
    "    model.eval()\n",
    "    total_val_loss = 0\n",
    "    total_val_mae = 0\n",
    "    with torch.no_grad():\n",
    "        for batch in val_loader:\n",
    "            inp, out = batch[0].to(device), batch[1].to(device)\n",
    "            m_out = model(inp)\n",
    "            loss = criterion(m_out, out)\n",
    "            mae_val = MAE(m_out, out)\n",
    "            total_val_loss += loss.item()\n",
    "            total_val_mae += mae_val.item()\n",
    "    \n",
    "    avg_val_loss = total_val_loss / len(val_loader)\n",
    "    avg_val_mae = total_val_mae / len(val_loader)\n",
    "    val_losses.append(avg_val_loss)\n",
    "    \n",
    "    display.clear_output(wait=True)\n",
    "    print(f\"Epoch: {epoch+1} - Train Loss: {avg_train_loss:.3e} - Val Loss: {avg_val_loss:.3e} - Train MAE: {avg_train_mae:.5f} - Val MAE: {avg_val_mae:.5f}\")\n",
    "    plt.plot(train_losses, label='Training Loss')\n",
    "    plt.plot(val_losses, label='Validation Loss')\n",
    "    plt.legend()\n",
    "    plt.show(block=False)\n",
    "\n",
    "    if len(val_losses) > 1:\n",
    "        if val_losses[-1] < val_losses[-2]:\n",
    "            torch.save(model.state_dict(), '../saved_model/WaLeF_cnn.pth')\n",
    "\n",
    "# Epoch 2233/3000\n",
    "# 151/151 - 1s - loss: 1.2726e-04 - mae: 0.0072 - val_loss: 6.2366e-04 - val_mae: 0.0182"
   ]
  },
  {
   "cell_type": "code",
   "execution_count": null,
   "metadata": {},
   "outputs": [],
   "source": []
  }
 ],
 "metadata": {
  "kernelspec": {
   "display_name": "base",
   "language": "python",
   "name": "python3"
  },
  "language_info": {
   "codemirror_mode": {
    "name": "ipython",
    "version": 3
   },
   "file_extension": ".py",
   "mimetype": "text/x-python",
   "name": "python",
   "nbconvert_exporter": "python",
   "pygments_lexer": "ipython3",
   "version": "3.9.0"
  }
 },
 "nbformat": 4,
 "nbformat_minor": 2
}
