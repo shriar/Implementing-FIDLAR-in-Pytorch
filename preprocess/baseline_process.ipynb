{
 "cells": [
  {
   "cell_type": "code",
   "execution_count": 2,
   "metadata": {},
   "outputs": [],
   "source": [
    "import numpy as np\n",
    "import pandas as pd\n",
    "from pandas import DataFrame, concat, read_csv\n",
    "# from tensorflow import keras\n",
    "from sklearn.preprocessing import MinMaxScaler\n",
    "from math import sqrt\n",
    "from preprocess.helper import series_to_supervised, stage_series_to_supervised"
   ]
  },
  {
   "cell_type": "code",
   "execution_count": 3,
   "metadata": {},
   "outputs": [],
   "source": [
    "n_hours = 72\n",
    "K = 24 \n",
    "masked_value = 1e-10\n",
    "split_1 = 0.8\n",
    "split_2 = 0.9"
   ]
  },
  {
   "cell_type": "code",
   "execution_count": 4,
   "metadata": {},
   "outputs": [],
   "source": [
    "# ==================== import dataset ====================\n",
    "dataset = pd.read_csv('./data/Merged-update_hourly.csv', index_col=0)\n",
    "# print(dataset)\n",
    "dataset.fillna(0, inplace=True)\n",
    "# print(dataset.columns)"
   ]
  },
  {
   "cell_type": "code",
   "execution_count": 25,
   "metadata": {},
   "outputs": [
    {
     "name": "stdout",
     "output_type": "stream",
     "text": [
      "data.shape: (96432, 16)\n",
      "data_supervised.shape: (96337, 1536)\n"
     ]
    }
   ],
   "source": [
    "# ==================== convert dataset to supervised mode ====================\n",
    "data = dataset[['MEAN_RAIN', 'WS_S4',\n",
    "                'GATE_S25A', 'GATE_S25B', 'GATE_S25B2', 'GATE_S26_1', 'GATE_S26_2',\n",
    "                'PUMP_S25B', 'PUMP_S26',\n",
    "                #'FLOW_S25A', 'FLOW_S25B', 'FLOW_S26', \n",
    "                'HWS_S25A', 'HWS_S25B', 'HWS_S26',\n",
    "                'WS_S1', 'TWS_S25A', 'TWS_S25B', 'TWS_S26']]\n",
    "\n",
    "# print(data)\n",
    "features = data.shape[1]\n",
    "# print(features)\n",
    "\n",
    "print(\"data.shape:\", data.shape)\n",
    "\n",
    "data_supervised = series_to_supervised(data, n_hours, K)\n",
    "print(\"data_supervised.shape:\", data_supervised.shape)\n",
    "# print(data_supervised)\n",
    "\n",
    "col_names = ['MEAN_RAIN', 'WS_S4',\n",
    "                'GATE_S25A', 'GATE_S25B', 'GATE_S25B2', 'GATE_S26_1', 'GATE_S26_2',\n",
    "                'PUMP_S25B', 'PUMP_S26',\n",
    "                #'FLOW_S25A', 'FLOW_S25B', 'FLOW_S26', \n",
    "                'HWS_S25A', 'HWS_S25B', 'HWS_S26',\n",
    "                'WS_S1', 'TWS_S25A', 'TWS_S25B', 'TWS_S26'] * (n_hours+K)\n",
    "\n",
    "data_supervised.reset_index(drop=True, inplace=True)\n",
    "data_supervised.columns = [[i + '_' + j for i, j in zip(col_names, list(data_supervised.columns))]]\n",
    "# print(\"data_supervised:\", data_supervised)"
   ]
  },
  {
   "cell_type": "code",
   "execution_count": 36,
   "metadata": {},
   "outputs": [
    {
     "data": {
      "text/html": [
       "<div>\n",
       "<style scoped>\n",
       "    .dataframe tbody tr th:only-of-type {\n",
       "        vertical-align: middle;\n",
       "    }\n",
       "\n",
       "    .dataframe tbody tr th {\n",
       "        vertical-align: top;\n",
       "    }\n",
       "\n",
       "    .dataframe thead tr th {\n",
       "        text-align: left;\n",
       "    }\n",
       "</style>\n",
       "<table border=\"1\" class=\"dataframe\">\n",
       "  <thead>\n",
       "    <tr>\n",
       "      <th></th>\n",
       "      <th>MEAN_RAIN_var1(t+23)</th>\n",
       "    </tr>\n",
       "  </thead>\n",
       "  <tbody>\n",
       "    <tr>\n",
       "      <th>16</th>\n",
       "      <td>0.0</td>\n",
       "    </tr>\n",
       "  </tbody>\n",
       "</table>\n",
       "</div>"
      ],
      "text/plain": [
       "   MEAN_RAIN_var1(t+23)\n",
       "16                  0.0"
      ]
     },
     "execution_count": 36,
     "metadata": {},
     "output_type": "execute_result"
    }
   ],
   "source": [
    "data_supervised[\"MEAN_RAIN_var1(t+23)\"].iloc[[16]]"
   ]
  },
  {
   "cell_type": "code",
   "execution_count": 37,
   "metadata": {},
   "outputs": [
    {
     "data": {
      "text/plain": [
       "array([  103,   104,   105, ..., 96244, 96245, 96327], dtype=int64)"
      ]
     },
     "execution_count": 37,
     "metadata": {},
     "output_type": "execute_result"
    }
   ],
   "source": [
    "data_supervised[\"MEAN_RAIN_var1(t+23)\"].to_numpy().nonzero()[0]"
   ]
  },
  {
   "cell_type": "code",
   "execution_count": 41,
   "metadata": {},
   "outputs": [
    {
     "name": "stdout",
     "output_type": "stream",
     "text": [
      "(96337, 96, 16)\n"
     ]
    }
   ],
   "source": [
    "# ==================== past & future ====================\n",
    "past = data_supervised.iloc[:, :n_hours*data.shape[1]]\n",
    "past = past.to_numpy(dtype='float32')\n",
    "# print(past[-1])\n",
    "past = past.reshape((-1, n_hours, data.shape[1]))\n",
    "# print(past.shape)\n",
    "\n",
    "future = data_supervised.iloc[:, n_hours*data.shape[1]:]\n",
    "future = future.to_numpy(dtype='float32')\n",
    "future = future.reshape((-1, K, data.shape[1]))\n",
    "\n",
    "past_future = np.concatenate((past, future), axis=1)\n",
    "past_future = past_future.astype(np.float32)\n",
    "print(\"past_future: \", past_future.shape)"
   ]
  },
  {
   "cell_type": "code",
   "execution_count": 45,
   "metadata": {},
   "outputs": [
    {
     "name": "stdout",
     "output_type": "stream",
     "text": [
      "X_mask:  (96337, 96, 16)\n",
      "ws_true:  (96337, 24, 4)\n",
      "X_mask_reshape:  (96337, 1536)\n",
      "ws_true_reshape:  (96337, 96)\n"
     ]
    }
   ],
   "source": [
    "# ==================== masking ====================\n",
    "mask_gate_start_index = 2\n",
    "mask_gate_end_index = 6\n",
    "\n",
    "mask_pump_start_index = 7\n",
    "mask_pump_end_index = 8\n",
    "\n",
    "mask_hws_start_index = 9\n",
    "mask_hws_end_index = 11\n",
    "mask_tws_start_index = 12\n",
    "mask_tws_end_index = 15\n",
    "\n",
    "# all the ws of the future is masked including hws and tws\n",
    "# in ws_true only the tws of the future is taken into account\n",
    "# \n",
    "# ==================== past & future ====================\n",
    "past_future_mask = past_future.copy()\n",
    "past_future_mask[:, n_hours:, mask_hws_start_index:mask_tws_end_index+1] = masked_value  # masking ws\n",
    "\n",
    "X_mask = past_future_mask\n",
    "print(\"X_mask: \", X_mask.shape)\n",
    "ws_true = past_future[:, n_hours:, mask_tws_start_index:mask_tws_end_index+1]\n",
    "print(\"ws_true: \", ws_true.shape)\n",
    "\n",
    "# reshaping\n",
    "X_mask_reshape = X_mask.reshape((X_mask.shape[0], -1))\n",
    "print(\"X_mask_reshape: \", X_mask_reshape.shape)\n",
    "ws_true_reshape = ws_true.reshape((ws_true.shape[0], -1))\n",
    "print(\"ws_true_reshape: \", ws_true_reshape.shape)\n",
    "\n",
    "split1 = int(len(X_mask_reshape)*split_1)\n",
    "split2 = int(len(X_mask_reshape)*split_2)"
   ]
  },
  {
   "cell_type": "code",
   "execution_count": 53,
   "metadata": {},
   "outputs": [],
   "source": [
    "# train / val / test\n",
    "train_X_mask = X_mask_reshape[:split1]\n",
    "val_X_mask = X_mask_reshape[split1:split2]\n",
    "test_X_mask = X_mask_reshape[split1:]\n",
    "\n",
    "train_ws_true = ws_true_reshape[:split1]\n",
    "val_ws_true = ws_true_reshape[split1:split2]\n",
    "test_ws_true = ws_true_reshape[split1:]"
   ]
  },
  {
   "cell_type": "code",
   "execution_count": 54,
   "metadata": {},
   "outputs": [
    {
     "name": "stdout",
     "output_type": "stream",
     "text": [
      "train_X_mask:  (77069, 96, 16)\n",
      "train_ws_y:  (77069, 96)\n"
     ]
    }
   ],
   "source": [
    "# ==================== normalization ====================\n",
    "scaler = MinMaxScaler(feature_range=(0, 1))\n",
    "train_X_mask_scaled = scaler.fit_transform(train_X_mask)\n",
    "val_X_mask_scaled = scaler.fit_transform(val_X_mask)\n",
    "test_X_mask_scaled = scaler.fit_transform(test_X_mask)\n",
    "\n",
    "\n",
    "ws_scaler = MinMaxScaler(feature_range=(0, 1))\n",
    "train_ws_true_scaled = ws_scaler.fit_transform(train_ws_true)\n",
    "val_ws_true_scaled = ws_scaler.fit_transform(val_ws_true)\n",
    "test_ws_true_scaled = ws_scaler.fit_transform(test_ws_true)\n",
    "\n",
    "\n",
    "# final train / val / test\n",
    "train_X_mask = train_X_mask_scaled.reshape((-1, n_hours+K, features))\n",
    "print(\"train_X_mask: \", train_X_mask.shape)\n",
    "val_X_mask = val_X_mask_scaled.reshape((-1, n_hours+K, features))\n",
    "test_X_mask = test_X_mask_scaled.reshape((-1, n_hours+K, features))\n",
    "\n",
    "train_ws_y = train_ws_true_scaled\n",
    "print(\"train_ws_y: \", train_ws_y.shape)\n",
    "val_ws_y = val_ws_true_scaled\n",
    "test_ws_y = test_ws_true_scaled"
   ]
  },
  {
   "cell_type": "code",
   "execution_count": null,
   "metadata": {},
   "outputs": [],
   "source": []
  }
 ],
 "metadata": {
  "kernelspec": {
   "display_name": "Python 3",
   "language": "python",
   "name": "python3"
  },
  "language_info": {
   "codemirror_mode": {
    "name": "ipython",
    "version": 3
   },
   "file_extension": ".py",
   "mimetype": "text/x-python",
   "name": "python",
   "nbconvert_exporter": "python",
   "pygments_lexer": "ipython3",
   "version": "3.9.0"
  }
 },
 "nbformat": 4,
 "nbformat_minor": 2
}
