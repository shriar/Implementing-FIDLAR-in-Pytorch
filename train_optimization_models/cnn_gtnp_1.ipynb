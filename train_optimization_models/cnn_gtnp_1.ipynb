{
 "cells": [
  {
   "cell_type": "code",
   "execution_count": 27,
   "metadata": {},
   "outputs": [],
   "source": [
    "import sys\n",
    "import os\n",
    "\n",
    "current_directory = os.getcwd()        \n",
    "parent_directory = os.path.dirname(current_directory)\n",
    "sys.path.append(parent_directory)\n",
    "\n",
    "import torch\n",
    "import torch.nn as nn\n",
    "from torch_geometric.nn import GCNConv\n",
    "from torch_geometric.utils import dense_to_sparse, add_self_loops\n",
    "from models.graph_water_transformer_cov import Graph_Water_Transformer_Cov\n",
    "from torchinfo import summary\n",
    "import torch.utils.data as data_utils\n",
    "\n",
    "import math\n",
    "from tqdm import tqdm\n",
    "from IPython import display\n",
    "import matplotlib.pyplot as plt\n",
    "\n",
    "from preprocess.BaselinePrerocess import baseline_process\n",
    "from preprocess.GraphTransformerPrerocess import graph_water_transformer_cov_process_for_gate_predictor\n",
    "from preprocess.graph import graph_topology_5\n",
    "from baselines.cnn import CNNGateGenerator\n",
    "from losses.loss import gate_loss, water_level_threshold\n",
    "\n",
    "\n",
    "device = torch.device(\"cuda\" if torch.cuda.is_available() else \"cpu\")\n"
   ]
  },
  {
   "cell_type": "code",
   "execution_count": 2,
   "metadata": {},
   "outputs": [],
   "source": [
    "n_hours = 72\n",
    "K = 24 \n",
    "masked_value = 1e-10\n",
    "split_1 = 0.8\n",
    "split_2 = 0.9\n",
    "sigma2 = 0.1\n",
    "epsilon = 0.5"
   ]
  },
  {
   "cell_type": "code",
   "execution_count": 3,
   "metadata": {},
   "outputs": [],
   "source": [
    "train_X_mask, val_X_mask, test_X_mask, \\\n",
    "train_ws_y, val_ws_y, test_ws_y, \\\n",
    "scaler, ws_scaler = baseline_process(n_hours, K, masked_value, split_1, split_2)"
   ]
  },
  {
   "cell_type": "code",
   "execution_count": 4,
   "metadata": {},
   "outputs": [
    {
     "name": "stdout",
     "output_type": "stream",
     "text": [
      "Index(['WS_S1', 'WS_S4', 'FLOW_S25A', 'GATE_S25A', 'HWS_S25A', 'TWS_S25A',\n",
      "       'FLOW_S25B', 'GATE_S25B', 'GATE_S25B2', 'HWS_S25B', 'TWS_S25B',\n",
      "       'PUMP_S25B', 'FLOW_S26', 'GATE_S26_1', 'GATE_S26_2', 'HWS_S26',\n",
      "       'TWS_S26', 'PUMP_S26', 'MEAN_RAIN'],\n",
      "      dtype='object')\n",
      "train_tws/val_tws/test_tws: (77069, 5, 72) (9634, 5, 72) (19268, 5, 72) \n",
      " train_cov/val_cov/test_cov: (77069, 96, 12) (9634, 96, 12) (19268, 96, 12) \n",
      " train_ws_y/val_ws_y/test_ws_y: (77069, 96) (9634, 96) (19268, 96) \n",
      "  train_gate_pump_y/val_gate_pump_y/test_gate_pump_y: (77069, 24, 7) (9634, 24, 7) (19268, 24, 7)\n"
     ]
    }
   ],
   "source": [
    "train_cov, val_cov, test_cov, \\\n",
    "train_tws_reshape, val_tws_reshape, test_tws_reshape, \\\n",
    "train_gate_pump_y, val_gate_pump_y, test_gate_pump_y, \\\n",
    "train_ws_y, val_ws_y, test_ws_y, \\\n",
    "scaler, ws_scaler, gate_scalar = graph_water_transformer_cov_process_for_gate_predictor(n_hours, K, masked_value, split_1, split_2)"
   ]
  },
  {
   "cell_type": "code",
   "execution_count": 5,
   "metadata": {},
   "outputs": [
    {
     "name": "stdout",
     "output_type": "stream",
     "text": [
      "node_indices: [0 0 0 0 1 1 2 2 3 3 4 4] \n",
      "neighbor_indices: [1 2 3 4 0 2 0 1 0 4 0 3]\n",
      "number of nodes: 5, number of edges: 12\n"
     ]
    }
   ],
   "source": [
    "train_adj_mat, val_adj_mat, test_adj_mat = graph_topology_5(n_hours, K, sigma2, epsilon, len(train_ws_y), len(val_ws_y), len(test_ws_y))"
   ]
  },
  {
   "cell_type": "code",
   "execution_count": 6,
   "metadata": {},
   "outputs": [],
   "source": [
    "train_adj_mat, val_adj_mat, test_adj_mat = torch.tensor(train_adj_mat), torch.tensor(val_adj_mat), torch.tensor(test_adj_mat)"
   ]
  },
  {
   "cell_type": "code",
   "execution_count": 7,
   "metadata": {},
   "outputs": [],
   "source": [
    "train_X_mask, val_X_mask, test_X_mask, \\\n",
    "train_ws_y, val_ws_y, test_ws_y = torch.tensor(train_X_mask), torch.tensor(val_X_mask), torch.tensor(test_X_mask), \\\n",
    "                                    torch.tensor(train_ws_y), torch.tensor(val_ws_y), torch.tensor(test_ws_y)"
   ]
  },
  {
   "cell_type": "code",
   "execution_count": 8,
   "metadata": {},
   "outputs": [
    {
     "name": "stderr",
     "output_type": "stream",
     "text": [
      "C:\\Users\\User\\AppData\\Local\\Temp\\ipykernel_6716\\3558344512.py:7: UserWarning: To copy construct from a tensor, it is recommended to use sourceTensor.clone().detach() or sourceTensor.clone().detach().requires_grad_(True), rather than torch.tensor(sourceTensor).\n",
      "  torch.tensor(train_ws_y), torch.tensor(val_ws_y), torch.tensor(test_ws_y)\n"
     ]
    }
   ],
   "source": [
    "train_cov, val_cov, test_cov, \\\n",
    "train_tws_reshape, val_tws_reshape, test_tws_reshape, \\\n",
    "train_gate_pump_y, val_gate_pump_y, test_gate_pump_y, \\\n",
    "train_ws_y, val_ws_y, test_ws_y = torch.tensor(train_cov), torch.tensor(val_cov), torch.tensor(test_cov), \\\n",
    "                                torch.tensor(train_tws_reshape), torch.tensor(val_tws_reshape), torch.tensor(test_tws_reshape), \\\n",
    "                                torch.tensor(train_gate_pump_y), torch.tensor(val_gate_pump_y), torch.tensor(test_gate_pump_y), \\\n",
    "                                torch.tensor(train_ws_y), torch.tensor(val_ws_y), torch.tensor(test_ws_y)"
   ]
  },
  {
   "cell_type": "code",
   "execution_count": 9,
   "metadata": {},
   "outputs": [],
   "source": [
    "batch_size = 512*3\n",
    "train_loader = data_utils.DataLoader(data_utils.TensorDataset(train_X_mask, train_tws_reshape, train_adj_mat), batch_size=batch_size, shuffle=True)\n",
    "val_loader = data_utils.DataLoader(data_utils.TensorDataset(val_X_mask, val_tws_reshape, val_adj_mat), batch_size=batch_size, shuffle=True)\n",
    "test_loader = data_utils.DataLoader(data_utils.TensorDataset(test_X_mask, test_tws_reshape, test_adj_mat), batch_size=batch_size, shuffle=True)\n",
    "\n",
    "# batch_size = 512*3\n",
    "# train_loader = data_utils.DataLoader(data_utils.TensorDataset(train_X_mask, train_tws_reshape, train_adj_mat, train_gate_pump_y, train_ws_y), batch_size=batch_size, shuffle=True)\n",
    "# val_loader = data_utils.DataLoader(data_utils.TensorDataset(val_X_mask, val_tws_reshape, val_adj_mat, val_gate_pump_y, val_ws_y), batch_size=batch_size, shuffle=True)\n",
    "# test_loader = data_utils.DataLoader(data_utils.TensorDataset(test_X_mask, test_tws_reshape, test_adj_mat, test_gate_pump_y, test_ws_y), batch_size=batch_size, shuffle=True)"
   ]
  },
  {
   "cell_type": "code",
   "execution_count": 10,
   "metadata": {},
   "outputs": [
    {
     "data": {
      "text/plain": [
       "(torch.Size([1536, 96, 16]),\n",
       " torch.Size([1536, 5, 72]),\n",
       " torch.Size([1536, 5, 5]))"
      ]
     },
     "execution_count": 10,
     "metadata": {},
     "output_type": "execute_result"
    }
   ],
   "source": [
    "next(iter(train_loader))[0].shape, next(iter(train_loader))[1].shape, next(iter(train_loader))[2].shape"
   ]
  },
  {
   "cell_type": "markdown",
   "metadata": {},
   "source": [
    "### Model"
   ]
  },
  {
   "cell_type": "markdown",
   "metadata": {},
   "source": [
    "#### Gate & pump predictor"
   ]
  },
  {
   "cell_type": "code",
   "execution_count": 11,
   "metadata": {},
   "outputs": [
    {
     "data": {
      "text/plain": [
       "torch.Size([96, 16])"
      ]
     },
     "execution_count": 11,
     "metadata": {},
     "output_type": "execute_result"
    }
   ],
   "source": [
    "# ===== model parameters ======\n",
    "cnn_unit1 = 64\n",
    "cnn_unit2 = 32\n",
    "cnn_unit3 = 16\n",
    "cnn_unit4 = 7\n",
    "dropout = 0.0\n",
    "kernel_size = 2\n",
    "pool_size = 2\n",
    "gate_min = 0.0\n",
    "gate_max = 1.0\n",
    "\n",
    "learning_rate = 3e-3\n",
    "decay_steps = 10000\n",
    "decay_rate = 0.9\n",
    "PATIENCE = 100\n",
    "EPOCHS = 700\n",
    "BATCH = 512\n",
    "input_shape = train_X_mask.shape[1:]\n",
    "input_shape"
   ]
  },
  {
   "cell_type": "code",
   "execution_count": 12,
   "metadata": {},
   "outputs": [
    {
     "data": {
      "text/plain": [
       "torch.Size([1, 24, 7])"
      ]
     },
     "execution_count": 12,
     "metadata": {},
     "output_type": "execute_result"
    }
   ],
   "source": [
    "GatePredictor = CNNGateGenerator(input_shape, cnn_unit1, cnn_unit2, cnn_unit3, cnn_unit4, \n",
    "                         kernel_size=3, dropout=0.5, pool_size=2, masked_value=None, gate_min=gate_min, gate_max=gate_max)\n",
    "cov = torch.rand(1, 96, 16)\n",
    "future_gate = GatePredictor(cov)\n",
    "future_gate.shape"
   ]
  },
  {
   "cell_type": "code",
   "execution_count": 13,
   "metadata": {},
   "outputs": [],
   "source": [
    "# summary(model, input_data=inp)"
   ]
  },
  {
   "cell_type": "markdown",
   "metadata": {},
   "source": [
    "#### water stage predictor"
   ]
  },
  {
   "cell_type": "code",
   "execution_count": 14,
   "metadata": {},
   "outputs": [
    {
     "name": "stdout",
     "output_type": "stream",
     "text": [
      "torch.Size([96, 12])\n"
     ]
    }
   ],
   "source": [
    "# ===== model parameters ======\n",
    "head_size = 96*2\n",
    "num_heads = 3\n",
    "ff_dim = 96\n",
    "num_transformer_blocks = 1\n",
    "dropout = 0.5\n",
    "atte_reg = 1e-2\n",
    "l1_reg = 1e-5\n",
    "l2_reg = 1e-5\n",
    "gcn_unit1 = 32\n",
    "gcn_unit2 = 16\n",
    "lstm_units = 32\n",
    "learning_rate = 5e-4\n",
    "decay_steps = 10000\n",
    "decay_rate = 0.95\n",
    "PATIENCE = 500\n",
    "EPOCHS = 3000\n",
    "BATCH = 512\n",
    "\n",
    "input_shape = train_cov.shape[1:]\n",
    "print(input_shape)"
   ]
  },
  {
   "cell_type": "code",
   "execution_count": 15,
   "metadata": {},
   "outputs": [],
   "source": [
    "WSPredictor = Graph_Water_Transformer_Cov(input_shape,  num_heads, dropout, epsilon, lstm_units, num_transformer_blocks, gcn_unit1, gcn_unit2, ff_dim)\n",
    "WSPredictor = WSPredictor.to(device)\n",
    "WSPredictor.load_state_dict(torch.load(r\"../saved_model/WaLeF_gtn_p.pth\"))\n",
    "for param in WSPredictor.parameters():\n",
    "    param.requires_grad = False"
   ]
  },
  {
   "cell_type": "code",
   "execution_count": 17,
   "metadata": {},
   "outputs": [
    {
     "data": {
      "text/plain": [
       "torch.Size([1, 96])"
      ]
     },
     "execution_count": 17,
     "metadata": {},
     "output_type": "execute_result"
    }
   ],
   "source": [
    "cov = torch.rand(1, 96, 12).to(device)\n",
    "tws = torch.rand(1, 5, 72).to(device)\n",
    "edge = torch.rand(5, 5).to(device)\n",
    "WSPredictor(cov, tws, edge).shape"
   ]
  },
  {
   "cell_type": "markdown",
   "metadata": {},
   "source": [
    "#### Combine gate_predictor and trained ws_predictor"
   ]
  },
  {
   "cell_type": "code",
   "execution_count": 18,
   "metadata": {},
   "outputs": [],
   "source": [
    "x_mask = torch.rand(1, 96, 16).to(device)"
   ]
  },
  {
   "cell_type": "code",
   "execution_count": 19,
   "metadata": {},
   "outputs": [
    {
     "ename": "RuntimeError",
     "evalue": "Expected all tensors to be on the same device, but found at least two devices, cuda:0 and cpu! (when checking argument for argument tensors in method wrapper_CUDA_cat)",
     "output_type": "error",
     "traceback": [
      "\u001b[1;31m---------------------------------------------------------------------------\u001b[0m",
      "\u001b[1;31mRuntimeError\u001b[0m                              Traceback (most recent call last)",
      "Cell \u001b[1;32mIn[19], line 1\u001b[0m\n\u001b[1;32m----> 1\u001b[0m replaced_future_gate_pump \u001b[38;5;241m=\u001b[39m \u001b[43mtorch\u001b[49m\u001b[38;5;241;43m.\u001b[39;49m\u001b[43mconcat\u001b[49m\u001b[43m(\u001b[49m\u001b[43m[\u001b[49m\u001b[43mx_mask\u001b[49m\u001b[43m[\u001b[49m\u001b[43m:\u001b[49m\u001b[43m,\u001b[49m\u001b[43m \u001b[49m\u001b[43mn_hours\u001b[49m\u001b[43m:\u001b[49m\u001b[43m,\u001b[49m\u001b[43m \u001b[49m\u001b[43m:\u001b[49m\u001b[38;5;241;43m2\u001b[39;49m\u001b[43m]\u001b[49m\u001b[43m,\u001b[49m\u001b[43m \u001b[49m\u001b[43mfuture_gate\u001b[49m\u001b[43m,\u001b[49m\u001b[43m \u001b[49m\u001b[43mx_mask\u001b[49m\u001b[43m[\u001b[49m\u001b[43m:\u001b[49m\u001b[43m,\u001b[49m\u001b[43m \u001b[49m\u001b[43mn_hours\u001b[49m\u001b[43m:\u001b[49m\u001b[43m,\u001b[49m\u001b[43m \u001b[49m\u001b[38;5;241;43m9\u001b[39;49m\u001b[43m:\u001b[49m\u001b[43m]\u001b[49m\u001b[43m]\u001b[49m\u001b[43m,\u001b[49m\u001b[43m \u001b[49m\u001b[43mdim\u001b[49m\u001b[38;5;241;43m=\u001b[39;49m\u001b[38;5;241;43m-\u001b[39;49m\u001b[38;5;241;43m1\u001b[39;49m\u001b[43m)\u001b[49m\n\u001b[0;32m      3\u001b[0m merged_inputs \u001b[38;5;241m=\u001b[39m torch\u001b[38;5;241m.\u001b[39mconcat([x_mask[:, :n_hours, :], replaced_future_gate_pump], dim\u001b[38;5;241m=\u001b[39m\u001b[38;5;241m1\u001b[39m)\n\u001b[0;32m      4\u001b[0m merged_inputs_cov \u001b[38;5;241m=\u001b[39m merged_inputs[:, :, :\u001b[38;5;241m12\u001b[39m]\n",
      "\u001b[1;31mRuntimeError\u001b[0m: Expected all tensors to be on the same device, but found at least two devices, cuda:0 and cpu! (when checking argument for argument tensors in method wrapper_CUDA_cat)"
     ]
    }
   ],
   "source": [
    "replaced_future_gate_pump = torch.concat([x_mask[:, n_hours:, :2], future_gate, x_mask[:, n_hours:, 9:]], dim=-1)\n",
    "\n",
    "merged_inputs = torch.concat([x_mask[:, :n_hours, :], replaced_future_gate_pump], dim=1)\n",
    "merged_inputs_cov = merged_inputs[:, :, :12]"
   ]
  },
  {
   "cell_type": "code",
   "execution_count": 20,
   "metadata": {},
   "outputs": [],
   "source": [
    "class FILDA(nn.Module):\n",
    "    def __init__(self, n_hours):\n",
    "        super(FILDA, self).__init__()\n",
    "        self.n_hours = n_hours\n",
    "\n",
    "        self.gate_predictor = GatePredictor.to(device)\n",
    "        self.ws_predictor = WSPredictor.to(device)\n",
    "\n",
    "    def forward(self, inputs_feat, inputs_tws, inputs_adj):\n",
    "        self.ws_predictor.eval()\n",
    "        gate_predictor_output = self.gate_predictor(inputs_feat) # future predicted gate-pump\n",
    "\n",
    "        replaced_future_gate_pump = torch.cat((inputs_feat[:, self.n_hours:, :2], gate_predictor_output, inputs_feat[:, n_hours:, 9:]), dim=-1)\n",
    "        merged_inputs = torch.cat((inputs_feat[:, :self.n_hours, :], replaced_future_gate_pump), dim=1)\n",
    "        merged_inputs_cov = merged_inputs[:, :, :12]\n",
    "\n",
    "        ws_pre = self.ws_predictor(merged_inputs_cov, inputs_tws, inputs_adj)\n",
    "\n",
    "        return gate_predictor_output, ws_pre\n",
    "\n",
    "model = FILDA(n_hours).to(device)\n",
    "\n",
    "inputs_feat = torch.randn(10, 96, 16).to(device)\n",
    "inputs_tws = torch.randn(10, 5, 72).to(device)\n",
    "inputs_adj = torch.randn(5, 5).to(device)\n",
    "\n",
    "output = model(inputs_feat, inputs_tws, inputs_adj)\n",
    "gate_predictor_output = output[0]\n",
    "ws_pred = output[1]"
   ]
  },
  {
   "cell_type": "code",
   "execution_count": 21,
   "metadata": {},
   "outputs": [
    {
     "data": {
      "text/plain": [
       "tensor(0., device='cuda:0', grad_fn=<AddBackward0>)"
      ]
     },
     "execution_count": 21,
     "metadata": {},
     "output_type": "execute_result"
    }
   ],
   "source": [
    "gate_loss(gate_predictor_output)"
   ]
  },
  {
   "cell_type": "code",
   "execution_count": 22,
   "metadata": {},
   "outputs": [
    {
     "data": {
      "text/plain": [
       "tensor(15.1501, device='cuda:0', grad_fn=<AddBackward0>)"
      ]
     },
     "execution_count": 22,
     "metadata": {},
     "output_type": "execute_result"
    }
   ],
   "source": [
    "water_level_threshold(ws_pred)"
   ]
  },
  {
   "cell_type": "markdown",
   "metadata": {},
   "source": [
    "# Training"
   ]
  },
  {
   "cell_type": "code",
   "execution_count": 28,
   "metadata": {},
   "outputs": [],
   "source": [
    "model = model.to(device)\n",
    "train_losses = []\n",
    "val_losses = []\n",
    "total_num_epochs = 0"
   ]
  },
  {
   "cell_type": "code",
   "execution_count": 37,
   "metadata": {},
   "outputs": [],
   "source": [
    "\n",
    "learning_rate = 1e-5\n",
    "optimizer = torch.optim.Adam(model.parameters(), lr=learning_rate)\n",
    "# scheduler = ExponentialLR(optimizer, gamma=decay_rate,\n",
    "#                         #   last_epoch=-1\n",
    "#                           )\n",
    "# from torchmetrics.regression import MeanAbsoluteError\n",
    "# criterion = torch.nn.MSELoss()\n",
    "# MAE = MeanAbsoluteError().to(device)\n",
    "\n",
    "\n",
    "num_epochs = 10"
   ]
  },
  {
   "cell_type": "code",
   "execution_count": 38,
   "metadata": {},
   "outputs": [
    {
     "name": "stdout",
     "output_type": "stream",
     "text": [
      "Epoch: 10 - Train Loss: 0.460 - Val Loss: 3.135\n"
     ]
    },
    {
     "data": {
      "image/png": "[encoded data removed]",
      "text/plain": [
       "<Figure size 640x480 with 1 Axes>"
      ]
     },
     "metadata": {},
     "output_type": "display_data"
    },
    {
     "name": "stderr",
     "output_type": "stream",
     "text": [
      "100%|██████████| 10/10 [01:35<00:00,  9.53s/it]\n"
     ]
    }
   ],
   "source": [
    "for epoch in tqdm(range(num_epochs)):\n",
    "    total_num_epochs += epoch\n",
    "    model.train()\n",
    "    total_train_loss = 0\n",
    "    \n",
    "    for batch in train_loader:\n",
    "        cov, tws, adj_mat = batch[0].to(device), batch[1].to(device), batch[2].to(device)\n",
    "        optimizer.zero_grad()\n",
    "        gate_predictor_output, ws_pred = model(cov, tws, adj_mat[0])\n",
    "        gate_pred_loss = gate_loss(gate_predictor_output)\n",
    "        ws_pred_loss = water_level_threshold(ws_pred)\n",
    "        loss = gate_pred_loss * 0 + ws_pred_loss * 2\n",
    "\n",
    "        loss.backward()\n",
    "        optimizer.step()\n",
    "        # scheduler.step()\n",
    "        total_train_loss += loss.item()\n",
    "    \n",
    "    avg_train_loss = total_train_loss / len(train_loader)\n",
    "    train_losses.append(avg_train_loss)\n",
    "    \n",
    "    model.eval()\n",
    "    total_val_loss = 0\n",
    "    loader = val_loader\n",
    "    with torch.no_grad():\n",
    "        for batch in loader:\n",
    "            cov, tws, adj_mat = batch[0].to(device), batch[1].to(device), batch[2].to(device)\n",
    "            gate_predictor_output, ws_pred = model(cov, tws, adj_mat[0])\n",
    "            gate_pred_loss = gate_loss(gate_predictor_output)\n",
    "            ws_pred_loss = water_level_threshold(ws_pred)\n",
    "            loss = gate_pred_loss * 0 + ws_pred_loss * 2\n",
    "\n",
    "            total_val_loss += loss.item()\n",
    "    \n",
    "    avg_val_loss = total_val_loss / len(loader)\n",
    "    val_losses.append(avg_val_loss)\n",
    "    \n",
    "    display.clear_output(wait=True)\n",
    "    print(f\"Epoch: {epoch+1} - Train Loss: {avg_train_loss:.3f} - Val Loss: {avg_val_loss:.3f}\")\n",
    "    plt.plot(train_losses, label='Training Loss')\n",
    "    plt.plot(val_losses, label='Validation Loss')\n",
    "    plt.legend()\n",
    "    plt.show(block=False)\n",
    "\n",
    "    if len(val_losses) > 1:\n",
    "        if val_losses[-1] < val_losses[-2]:\n",
    "            torch.save(model.state_dict(), '../saved_model/cnn_gtnp_1.pth')\n",
    "\n",
    "\n",
    "\n",
    "# Epoch 149: val_ws_predictor_loss did not improve from 1.71717\n",
    "# 151/151 - 7s - loss: 0.4260 - gate_predictor_loss: 0.0000e+00 - ws_predictor_loss: 0.2130 - val_loss: 3.4609 - val_gate_predictor_loss: 0.0000e+00 - val_ws_predictor_loss: 1.7304 - 7s/epoch - 46ms/step\n",
    "# Epoch 149: early stopping\n",
    "\n",
    "# loss: 0.4260  --- val_loss: 3.4609\n"
   ]
  },
  {
   "cell_type": "code",
   "execution_count": null,
   "metadata": {},
   "outputs": [],
   "source": []
  }
 ],
 "metadata": {
  "kernelspec": {
   "display_name": "base",
   "language": "python",
   "name": "python3"
  },
  "language_info": {
   "codemirror_mode": {
    "name": "ipython",
    "version": 3
   },
   "file_extension": ".py",
   "mimetype": "text/x-python",
   "name": "python",
   "nbconvert_exporter": "python",
   "pygments_lexer": "ipython3",
   "version": "3.9.0"
  }
 },
 "nbformat": 4,
 "nbformat_minor": 2
}
